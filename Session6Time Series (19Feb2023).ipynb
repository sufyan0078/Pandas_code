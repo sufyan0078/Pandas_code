{
 "cells": [
  {
   "cell_type": "markdown",
   "id": "b4beed68",
   "metadata": {},
   "source": [
    "# Time Series"
   ]
  },
  {
   "cell_type": "code",
   "execution_count": 5,
   "id": "e98f296b",
   "metadata": {},
   "outputs": [],
   "source": [
    "import pandas as pd\n",
    "import numpy as np\n",
    "from datetime import datetime"
   ]
  },
  {
   "cell_type": "code",
   "execution_count": 6,
   "id": "6c6c7552",
   "metadata": {},
   "outputs": [],
   "source": [
    "date = datetime(2014, 12, 15)"
   ]
  },
  {
   "cell_type": "code",
   "execution_count": 7,
   "id": "43c70485",
   "metadata": {},
   "outputs": [
    {
     "data": {
      "text/plain": [
       "datetime.datetime(2014, 12, 15, 0, 0)"
      ]
     },
     "execution_count": 7,
     "metadata": {},
     "output_type": "execute_result"
    }
   ],
   "source": [
    "date"
   ]
  },
  {
   "cell_type": "code",
   "execution_count": 8,
   "id": "0fe0deba",
   "metadata": {},
   "outputs": [],
   "source": [
    "date_with_hour_minutes = datetime(2014, 12, 15, 17, 30)"
   ]
  },
  {
   "cell_type": "code",
   "execution_count": 9,
   "id": "7d11b2f6",
   "metadata": {},
   "outputs": [
    {
     "data": {
      "text/plain": [
       "datetime.datetime(2014, 12, 15, 17, 30)"
      ]
     },
     "execution_count": 9,
     "metadata": {},
     "output_type": "execute_result"
    }
   ],
   "source": [
    "date_with_hour_minutes"
   ]
  },
  {
   "cell_type": "code",
   "execution_count": 20,
   "id": "e41df685",
   "metadata": {},
   "outputs": [],
   "source": [
    "class dt:\n",
    "    \n",
    "    def __init__(self, y, m , d, h , mm):\n",
    "        self. year = y\n",
    "        self.month = m\n",
    "        self.day = d\n",
    "        self.hour = h\n",
    "        self. minute = mm"
   ]
  },
  {
   "cell_type": "code",
   "execution_count": 21,
   "id": "19d1b4cd",
   "metadata": {},
   "outputs": [],
   "source": [
    "dd = dt(2015,12,31,12,50)"
   ]
  },
  {
   "cell_type": "code",
   "execution_count": 22,
   "id": "b93f8026",
   "metadata": {},
   "outputs": [
    {
     "data": {
      "text/plain": [
       "2015"
      ]
     },
     "execution_count": 22,
     "metadata": {},
     "output_type": "execute_result"
    }
   ],
   "source": [
    "dd.year"
   ]
  },
  {
   "cell_type": "code",
   "execution_count": 23,
   "id": "b1b15761",
   "metadata": {},
   "outputs": [
    {
     "data": {
      "text/plain": [
       "50"
      ]
     },
     "execution_count": 23,
     "metadata": {},
     "output_type": "execute_result"
    }
   ],
   "source": [
    "dd.minute"
   ]
  },
  {
   "cell_type": "code",
   "execution_count": 49,
   "id": "929dc0b0",
   "metadata": {},
   "outputs": [],
   "source": [
    "date_today = datetime.now()"
   ]
  },
  {
   "cell_type": "code",
   "execution_count": 50,
   "id": "0d285236",
   "metadata": {},
   "outputs": [
    {
     "data": {
      "text/plain": [
       "datetime.datetime(2023, 2, 19, 15, 31, 0, 405117)"
      ]
     },
     "execution_count": 50,
     "metadata": {},
     "output_type": "execute_result"
    }
   ],
   "source": [
    "date_today"
   ]
  },
  {
   "cell_type": "markdown",
   "id": "32cd80c4",
   "metadata": {},
   "source": [
    "# Pandas TimeStamp Object"
   ]
  },
  {
   "cell_type": "code",
   "execution_count": 51,
   "id": "5898c327",
   "metadata": {},
   "outputs": [],
   "source": [
    "pandas_date = pd.Timestamp('2014-12-15')"
   ]
  },
  {
   "cell_type": "code",
   "execution_count": 52,
   "id": "3bfbccc6",
   "metadata": {},
   "outputs": [
    {
     "data": {
      "text/plain": [
       "Timestamp('2014-12-15 00:00:00')"
      ]
     },
     "execution_count": 52,
     "metadata": {},
     "output_type": "execute_result"
    }
   ],
   "source": [
    "pandas_date"
   ]
  },
  {
   "cell_type": "code",
   "execution_count": 56,
   "id": "9f2c43e0",
   "metadata": {},
   "outputs": [],
   "source": [
    "# Adds time time to datenow\n",
    "pandas_time = pd.Timestamp('17:30')"
   ]
  },
  {
   "cell_type": "code",
   "execution_count": 57,
   "id": "852cb0a3",
   "metadata": {},
   "outputs": [
    {
     "data": {
      "text/plain": [
       "Timestamp('2023-02-19 17:30:00')"
      ]
     },
     "execution_count": 57,
     "metadata": {},
     "output_type": "execute_result"
    }
   ],
   "source": [
    "pandas_time"
   ]
  },
  {
   "cell_type": "code",
   "execution_count": 59,
   "id": "a40bc185",
   "metadata": {},
   "outputs": [],
   "source": [
    "pandas_current_date_time  = pd.Timestamp(\"now\")"
   ]
  },
  {
   "cell_type": "code",
   "execution_count": 60,
   "id": "d9e8b79b",
   "metadata": {},
   "outputs": [
    {
     "data": {
      "text/plain": [
       "Timestamp('2023-02-19 15:38:32.892506')"
      ]
     },
     "execution_count": 60,
     "metadata": {},
     "output_type": "execute_result"
    }
   ],
   "source": [
    "pandas_current_date_time"
   ]
  },
  {
   "cell_type": "code",
   "execution_count": 61,
   "id": "df8aa3e5",
   "metadata": {},
   "outputs": [
    {
     "data": {
      "text/plain": [
       "Timestamp('2023-02-19 15:39:36.346641')"
      ]
     },
     "execution_count": 61,
     "metadata": {},
     "output_type": "execute_result"
    }
   ],
   "source": [
    "pd.Timestamp.now()"
   ]
  },
  {
   "cell_type": "markdown",
   "id": "6d9bfd5f",
   "metadata": {},
   "source": [
    "# Time Delta to create difference in two timestamps"
   ]
  },
  {
   "cell_type": "code",
   "execution_count": 63,
   "id": "0b1ead98",
   "metadata": {},
   "outputs": [
    {
     "data": {
      "text/plain": [
       "datetime.datetime(2014, 12, 1, 0, 0)"
      ]
     },
     "execution_count": 63,
     "metadata": {},
     "output_type": "execute_result"
    }
   ],
   "source": [
    "today = datetime(2014, 11, 30)\n",
    "\n",
    "tomorrow = today + pd.Timedelta(days=1)\n",
    "tomorrow"
   ]
  },
  {
   "cell_type": "code",
   "execution_count": 64,
   "id": "5bb135a1",
   "metadata": {},
   "outputs": [
    {
     "data": {
      "text/plain": [
       "datetime.datetime(2015, 1, 1, 0, 0)"
      ]
     },
     "execution_count": 64,
     "metadata": {},
     "output_type": "execute_result"
    }
   ],
   "source": [
    "today = datetime(2014, 12, 31)\n",
    "\n",
    "tomorrow = today + pd.Timedelta(days=1)\n",
    "tomorrow"
   ]
  },
  {
   "cell_type": "code",
   "execution_count": 75,
   "id": "a3231edf",
   "metadata": {},
   "outputs": [
    {
     "data": {
      "text/plain": [
       "datetime.timedelta(days=12)"
      ]
     },
     "execution_count": 75,
     "metadata": {},
     "output_type": "execute_result"
    }
   ],
   "source": [
    "date1 = datetime(2014, 12, 10)\n",
    "\n",
    "date2 = datetime(2014, 11, 28)\n",
    "\n",
    "date1 - date2"
   ]
  },
  {
   "cell_type": "code",
   "execution_count": 66,
   "id": "e9e2e61f",
   "metadata": {},
   "outputs": [
    {
     "data": {
      "text/plain": [
       "datetime.timedelta(days=-4)"
      ]
     },
     "execution_count": 66,
     "metadata": {},
     "output_type": "execute_result"
    }
   ],
   "source": [
    "date2 - date1"
   ]
  },
  {
   "cell_type": "code",
   "execution_count": 73,
   "id": "08b8be46",
   "metadata": {},
   "outputs": [],
   "source": [
    "days_7 = pd.Timedelta(weeks=1)"
   ]
  },
  {
   "cell_type": "code",
   "execution_count": 74,
   "id": "350fc6b2",
   "metadata": {},
   "outputs": [
    {
     "data": {
      "text/plain": [
       "datetime.datetime(2014, 12, 9, 0, 0)"
      ]
     },
     "execution_count": 74,
     "metadata": {},
     "output_type": "execute_result"
    }
   ],
   "source": [
    "date1 + days_7"
   ]
  },
  {
   "cell_type": "code",
   "execution_count": 77,
   "id": "85a335a1",
   "metadata": {},
   "outputs": [
    {
     "data": {
      "text/plain": [
       "datetime.datetime(2014, 12, 3, 0, 0)"
      ]
     },
     "execution_count": 77,
     "metadata": {},
     "output_type": "execute_result"
    }
   ],
   "source": [
    "date1 - days_7"
   ]
  },
  {
   "cell_type": "code",
   "execution_count": 78,
   "id": "700d6c83",
   "metadata": {},
   "outputs": [],
   "source": [
    "days_7 = pd.Timedelta(weeks=-1)"
   ]
  },
  {
   "cell_type": "code",
   "execution_count": 80,
   "id": "3ab744e4",
   "metadata": {},
   "outputs": [
    {
     "data": {
      "text/plain": [
       "datetime.datetime(2014, 12, 17, 0, 0)"
      ]
     },
     "execution_count": 80,
     "metadata": {},
     "output_type": "execute_result"
    }
   ],
   "source": [
    "date1 - days_7"
   ]
  },
  {
   "cell_type": "markdown",
   "id": "01035f06",
   "metadata": {},
   "source": [
    "# DatetimeIndex\n",
    "Sequences of timestamp objects are represented by pandas as DatetimeIndex,\n",
    "which is a type of pandas index that is optimized for indexing by date and time.\n",
    "There are several ways to create DatetimeIndex objects in pandas. The following\n",
    "creates a DateTimeindex by passing a list of datetime objects as Series:"
   ]
  },
  {
   "cell_type": "code",
   "execution_count": 81,
   "id": "9fc12a6f",
   "metadata": {},
   "outputs": [],
   "source": [
    "dates = [datetime(2014, 8, 1), datetime(2014, 8, 2)]"
   ]
  },
  {
   "cell_type": "code",
   "execution_count": 82,
   "id": "96c165c6",
   "metadata": {},
   "outputs": [
    {
     "data": {
      "text/plain": [
       "2014-08-01   -0.753556\n",
       "2014-08-02    1.020641\n",
       "dtype: float64"
      ]
     },
     "execution_count": 82,
     "metadata": {},
     "output_type": "execute_result"
    }
   ],
   "source": [
    "ts = pd.Series(np.random.randn(2), dates)\n",
    "ts"
   ]
  },
  {
   "cell_type": "code",
   "execution_count": 91,
   "id": "a085136b",
   "metadata": {},
   "outputs": [
    {
     "data": {
      "text/plain": [
       "DatetimeIndex(['2014-08-01', '2014-08-02'], dtype='datetime64[ns]', freq=None)"
      ]
     },
     "execution_count": 91,
     "metadata": {},
     "output_type": "execute_result"
    }
   ],
   "source": [
    "ts.index"
   ]
  },
  {
   "cell_type": "code",
   "execution_count": 93,
   "id": "e12f8b97",
   "metadata": {},
   "outputs": [
    {
     "data": {
      "text/plain": [
       "array([-0.75355619,  1.02064133])"
      ]
     },
     "execution_count": 93,
     "metadata": {},
     "output_type": "execute_result"
    }
   ],
   "source": [
    "ts.values"
   ]
  },
  {
   "cell_type": "code",
   "execution_count": 88,
   "id": "03fdf1ce",
   "metadata": {},
   "outputs": [],
   "source": [
    "S = pd.Series([1,2,3,4],index=[22,33,44,55])"
   ]
  },
  {
   "cell_type": "code",
   "execution_count": 89,
   "id": "d709fa71",
   "metadata": {},
   "outputs": [
    {
     "data": {
      "text/plain": [
       "array([1, 2, 3, 4], dtype=int64)"
      ]
     },
     "execution_count": 89,
     "metadata": {},
     "output_type": "execute_result"
    }
   ],
   "source": [
    "S.values"
   ]
  },
  {
   "cell_type": "code",
   "execution_count": 90,
   "id": "da8f3ab7",
   "metadata": {},
   "outputs": [
    {
     "data": {
      "text/plain": [
       "Int64Index([22, 33, 44, 55], dtype='int64')"
      ]
     },
     "execution_count": 90,
     "metadata": {},
     "output_type": "execute_result"
    }
   ],
   "source": [
    "S.index"
   ]
  },
  {
   "cell_type": "code",
   "execution_count": 92,
   "id": "820659d7",
   "metadata": {},
   "outputs": [
    {
     "data": {
      "text/plain": [
       "RangeIndex(start=0, stop=4, step=1)"
      ]
     },
     "execution_count": 92,
     "metadata": {},
     "output_type": "execute_result"
    }
   ],
   "source": [
    "S = pd.Series([1,2,3,4])\n",
    "S.index"
   ]
  },
  {
   "cell_type": "code",
   "execution_count": 94,
   "id": "a1853cc8",
   "metadata": {},
   "outputs": [
    {
     "data": {
      "text/plain": [
       "DatetimeIndex(['2014-08-01', '2014-08-02', '2014-08-03', 'NaT'], dtype='datetime64[ns]', freq=None)"
      ]
     },
     "execution_count": 94,
     "metadata": {},
     "output_type": "execute_result"
    }
   ],
   "source": [
    "#convert a sequence of objects to a DatetimeIndex\n",
    "\n",
    "dti = pd.to_datetime(['Aug 1, 2014','2014-08-02','2014.8.3',None])\n",
    "dti"
   ]
  },
  {
   "cell_type": "code",
   "execution_count": 95,
   "id": "152d965c",
   "metadata": {},
   "outputs": [
    {
     "data": {
      "text/plain": [
       "Timestamp('2014-08-01 00:00:00')"
      ]
     },
     "execution_count": 95,
     "metadata": {},
     "output_type": "execute_result"
    }
   ],
   "source": [
    "pd.to_datetime('Aug 1, 2014')"
   ]
  },
  {
   "cell_type": "code",
   "execution_count": 96,
   "id": "87a72513",
   "metadata": {},
   "outputs": [
    {
     "name": "stdout",
     "output_type": "stream",
     "text": [
      "2014-08-01 00:00:00\n",
      "2014-08-02 00:00:00\n",
      "2014-08-03 00:00:00\n",
      "NaT\n"
     ]
    }
   ],
   "source": [
    "for l in dti: \n",
    "    print (l)"
   ]
  },
  {
   "cell_type": "code",
   "execution_count": 101,
   "id": "be92141c",
   "metadata": {},
   "outputs": [
    {
     "data": {
      "text/plain": [
       "DatetimeIndex(['2014-08-01', 'NaT'], dtype='datetime64[ns]', freq=None)"
      ]
     },
     "execution_count": 101,
     "metadata": {},
     "output_type": "execute_result"
    }
   ],
   "source": [
    "pd.to_datetime(['Aug 1, 2014', None])"
   ]
  },
  {
   "cell_type": "markdown",
   "id": "97609ffb",
   "metadata": {},
   "source": [
    "# Date Range"
   ]
  },
  {
   "cell_type": "code",
   "execution_count": 103,
   "id": "dd4a4de3",
   "metadata": {},
   "outputs": [],
   "source": [
    "periods = pd.date_range('8/1/2014', periods=10)"
   ]
  },
  {
   "cell_type": "code",
   "execution_count": 104,
   "id": "5ca8f5c8",
   "metadata": {},
   "outputs": [
    {
     "data": {
      "text/plain": [
       "2014-08-01    0.469112\n",
       "2014-08-02   -0.282863\n",
       "2014-08-03   -1.509059\n",
       "2014-08-04   -1.135632\n",
       "2014-08-05    1.212112\n",
       "2014-08-06   -0.173215\n",
       "2014-08-07    0.119209\n",
       "2014-08-08   -1.044236\n",
       "2014-08-09   -0.861849\n",
       "2014-08-10   -2.104569\n",
       "Freq: D, dtype: float64"
      ]
     },
     "execution_count": 104,
     "metadata": {},
     "output_type": "execute_result"
    }
   ],
   "source": [
    "np.random.seed(123456)\n",
    "date_series = pd.Series(np.random.randn(10), index=periods)\n",
    "date_series"
   ]
  },
  {
   "cell_type": "code",
   "execution_count": 105,
   "id": "bf5ed6dc",
   "metadata": {},
   "outputs": [
    {
     "data": {
      "text/plain": [
       "2014-08-03    0.469112\n",
       "2014-08-10   -0.282863\n",
       "2014-08-17   -1.509059\n",
       "2014-08-24   -1.135632\n",
       "2014-08-31    1.212112\n",
       "2014-09-07   -0.173215\n",
       "2014-09-14    0.119209\n",
       "2014-09-21   -1.044236\n",
       "2014-09-28   -0.861849\n",
       "2014-10-05   -2.104569\n",
       "Freq: W-SUN, dtype: float64"
      ]
     },
     "execution_count": 105,
     "metadata": {},
     "output_type": "execute_result"
    }
   ],
   "source": [
    "periods = pd.date_range('8/1/2014', periods=10,freq=\"W\")\n",
    "np.random.seed(123456)\n",
    "date_series = pd.Series(np.random.randn(10), index=periods)\n",
    "date_series\n"
   ]
  },
  {
   "cell_type": "code",
   "execution_count": 106,
   "id": "c16c94c1",
   "metadata": {},
   "outputs": [
    {
     "data": {
      "text/plain": [
       "2014-08-24   -1.135632\n",
       "2014-08-31    1.212112\n",
       "2014-09-07   -0.173215\n",
       "2014-09-14    0.119209\n",
       "Freq: W-SUN, dtype: float64"
      ]
     },
     "execution_count": 106,
     "metadata": {},
     "output_type": "execute_result"
    }
   ],
   "source": [
    "subset = date_series[3:7]\n",
    "subset"
   ]
  },
  {
   "cell_type": "code",
   "execution_count": 114,
   "id": "62666157",
   "metadata": {},
   "outputs": [
    {
     "data": {
      "text/plain": [
       "2014-08-24       10\n",
       "2014-08-31      100\n",
       "2014-09-07     1000\n",
       "2014-09-14    10000\n",
       "Freq: W-SUN, dtype: int64"
      ]
     },
     "execution_count": 114,
     "metadata": {},
     "output_type": "execute_result"
    }
   ],
   "source": [
    "s2 = pd.Series([10, 100, 1000, 10000], index=subset.index)\n",
    "s2"
   ]
  },
  {
   "cell_type": "code",
   "execution_count": 108,
   "id": "1e44c52b",
   "metadata": {},
   "outputs": [
    {
     "data": {
      "text/plain": [
       "2014-08-03             NaN\n",
       "2014-08-10             NaN\n",
       "2014-08-17             NaN\n",
       "2014-08-24        8.864368\n",
       "2014-08-31      101.212112\n",
       "2014-09-07      999.826785\n",
       "2014-09-14    10000.119209\n",
       "2014-09-21             NaN\n",
       "2014-09-28             NaN\n",
       "2014-10-05             NaN\n",
       "Freq: W-SUN, dtype: float64"
      ]
     },
     "execution_count": 108,
     "metadata": {},
     "output_type": "execute_result"
    }
   ],
   "source": [
    "date_series + s2"
   ]
  },
  {
   "cell_type": "code",
   "execution_count": 117,
   "id": "f6186da5",
   "metadata": {},
   "outputs": [
    {
     "data": {
      "text/plain": [
       "2014-08-10   -0.282863\n",
       "2014-08-17   -1.509059\n",
       "2014-08-24   -1.135632\n",
       "2014-08-31    1.212112\n",
       "2014-09-07   -0.173215\n",
       "2014-09-14    0.119209\n",
       "2014-09-21   -1.044236\n",
       "Freq: W-SUN, dtype: float64"
      ]
     },
     "execution_count": 117,
     "metadata": {},
     "output_type": "execute_result"
    }
   ],
   "source": [
    "date_series['2014-08-10': '2014-09-25']"
   ]
  },
  {
   "cell_type": "code",
   "execution_count": 122,
   "id": "7609c870",
   "metadata": {},
   "outputs": [
    {
     "data": {
      "text/plain": [
       "2013-01-01     1.648159\n",
       "2013-01-02     0.656244\n",
       "2013-01-03     3.076647\n",
       "2013-01-04   -18.983579\n",
       "2013-01-05     6.416055\n",
       "                ...    \n",
       "2014-12-27     6.707958\n",
       "2014-12-28    -1.334771\n",
       "2014-12-29     0.866015\n",
       "2014-12-30    -0.285670\n",
       "2014-12-31     8.828240\n",
       "Freq: D, Length: 730, dtype: float64"
      ]
     },
     "execution_count": 122,
     "metadata": {},
     "output_type": "execute_result"
    }
   ],
   "source": [
    "s3 = pd.Series(np.random.randn(730)*10, pd.date_range('2013-01-01', '2014-12-31'))\n",
    "s3"
   ]
  },
  {
   "cell_type": "code",
   "execution_count": 123,
   "id": "0e36e8fd",
   "metadata": {},
   "outputs": [
    {
     "data": {
      "text/plain": [
       "2014-05-01     1.462655\n",
       "2014-05-02    -8.305449\n",
       "2014-05-03    -4.570714\n",
       "2014-05-04    15.655806\n",
       "2014-05-05    11.480324\n",
       "2014-05-06     4.311862\n",
       "2014-05-07    10.494212\n",
       "2014-05-08     3.833088\n",
       "2014-05-09     5.950129\n",
       "2014-05-10     6.175094\n",
       "2014-05-11    -8.112303\n",
       "2014-05-12   -20.885628\n",
       "2014-05-13   -13.935002\n",
       "2014-05-14     9.474223\n",
       "2014-05-15    -6.712329\n",
       "2014-05-16    -8.470973\n",
       "2014-05-17   -11.877849\n",
       "2014-05-18    -1.837979\n",
       "2014-05-19   -12.112304\n",
       "2014-05-20    -8.568333\n",
       "2014-05-21    -6.005750\n",
       "2014-05-22     3.614283\n",
       "2014-05-23     8.873037\n",
       "2014-05-24     2.664566\n",
       "2014-05-25    -3.996415\n",
       "2014-05-26    -2.195824\n",
       "2014-05-27    11.868597\n",
       "2014-05-28   -14.371888\n",
       "2014-05-29     0.537685\n",
       "2014-05-30    18.726438\n",
       "2014-05-31   -14.698128\n",
       "Freq: D, dtype: float64"
      ]
     },
     "execution_count": 123,
     "metadata": {},
     "output_type": "execute_result"
    }
   ],
   "source": [
    "s3['2014-05']"
   ]
  },
  {
   "cell_type": "code",
   "execution_count": 124,
   "id": "61d435b0",
   "metadata": {},
   "outputs": [
    {
     "data": {
      "text/plain": [
       "2014-08-01     8.745707\n",
       "2014-08-02    -1.122823\n",
       "2014-08-03   -11.887646\n",
       "2014-08-04   -26.213766\n",
       "2014-08-05    -4.416824\n",
       "                ...    \n",
       "2014-09-26    -3.406652\n",
       "2014-09-27    -6.597429\n",
       "2014-09-28     6.654400\n",
       "2014-09-29     6.060540\n",
       "2014-09-30   -16.632087\n",
       "Freq: D, Length: 61, dtype: float64"
      ]
     },
     "execution_count": 124,
     "metadata": {},
     "output_type": "execute_result"
    }
   ],
   "source": [
    "s3['2014-08':'2014-09']"
   ]
  },
  {
   "cell_type": "markdown",
   "id": "4d174cc8",
   "metadata": {},
   "source": [
    "# Creating time-series data with specific frequencies"
   ]
  },
  {
   "cell_type": "code",
   "execution_count": 130,
   "id": "6baf1a3c",
   "metadata": {},
   "outputs": [],
   "source": [
    "np.random.seed(123456)\n",
    "bymin = pd.Series(np.random.randn(129600),pd.date_range('2014-08-01','2014-10-29 23:59',freq='T'))"
   ]
  },
  {
   "cell_type": "code",
   "execution_count": 136,
   "id": "ad15da06",
   "metadata": {},
   "outputs": [
    {
     "data": {
      "text/plain": [
       "2014-08-01 00:00:00    0.469112\n",
       "2014-08-01 00:01:00   -0.282863\n",
       "2014-08-01 00:02:00   -1.509059\n",
       "2014-08-01 00:03:00   -1.135632\n",
       "2014-08-01 00:04:00    1.212112\n",
       "                         ...   \n",
       "2014-10-29 23:55:00   -0.563029\n",
       "2014-10-29 23:56:00    1.180497\n",
       "2014-10-29 23:57:00    1.850604\n",
       "2014-10-29 23:58:00   -1.589660\n",
       "2014-10-29 23:59:00    0.266429\n",
       "Freq: T, Length: 129600, dtype: float64"
      ]
     },
     "execution_count": 136,
     "metadata": {},
     "output_type": "execute_result"
    }
   ],
   "source": [
    "bymin"
   ]
  },
  {
   "cell_type": "code",
   "execution_count": 128,
   "id": "55e6dd26",
   "metadata": {},
   "outputs": [
    {
     "data": {
      "text/plain": [
       "129600"
      ]
     },
     "execution_count": 128,
     "metadata": {},
     "output_type": "execute_result"
    }
   ],
   "source": [
    "90*24*60"
   ]
  },
  {
   "cell_type": "code",
   "execution_count": 132,
   "id": "325d9e1a",
   "metadata": {},
   "outputs": [
    {
     "data": {
      "text/plain": [
       "2014-08-01 00:02:00   -1.509059\n",
       "2014-08-01 00:03:00   -1.135632\n",
       "2014-08-01 00:04:00    1.212112\n",
       "2014-08-01 00:05:00   -0.173215\n",
       "2014-08-01 00:06:00    0.119209\n",
       "2014-08-01 00:07:00   -1.044236\n",
       "2014-08-01 00:08:00   -0.861849\n",
       "2014-08-01 00:09:00   -2.104569\n",
       "2014-08-01 00:10:00   -0.494929\n",
       "Freq: T, dtype: float64"
      ]
     },
     "execution_count": 132,
     "metadata": {},
     "output_type": "execute_result"
    }
   ],
   "source": [
    "bymin['2014-08-01 00:02':'2014-08-01 00:10']"
   ]
  },
  {
   "cell_type": "code",
   "execution_count": 138,
   "id": "3867d3c5",
   "metadata": {},
   "outputs": [
    {
     "name": "stdout",
     "output_type": "stream",
     "text": [
      "2023-01-02 00:00:00\n",
      "2023-01-03 00:00:00\n",
      "2023-01-04 00:00:00\n",
      "2023-01-05 00:00:00\n",
      "2023-01-06 00:00:00\n",
      "2023-01-09 00:00:00\n",
      "2023-01-10 00:00:00\n",
      "2023-01-11 00:00:00\n",
      "2023-01-12 00:00:00\n",
      "2023-01-13 00:00:00\n",
      "2023-01-16 00:00:00\n",
      "2023-01-17 00:00:00\n",
      "2023-01-18 00:00:00\n",
      "2023-01-19 00:00:00\n",
      "2023-01-20 00:00:00\n",
      "2023-01-23 00:00:00\n",
      "2023-01-24 00:00:00\n",
      "2023-01-25 00:00:00\n",
      "2023-01-26 00:00:00\n",
      "2023-01-27 00:00:00\n",
      "2023-01-30 00:00:00\n",
      "2023-01-31 00:00:00\n",
      "2023-02-01 00:00:00\n",
      "2023-02-02 00:00:00\n",
      "2023-02-03 00:00:00\n",
      "2023-02-06 00:00:00\n",
      "2023-02-07 00:00:00\n",
      "2023-02-08 00:00:00\n",
      "2023-02-09 00:00:00\n",
      "2023-02-10 00:00:00\n",
      "2023-02-13 00:00:00\n",
      "2023-02-14 00:00:00\n",
      "2023-02-15 00:00:00\n",
      "2023-02-16 00:00:00\n",
      "2023-02-17 00:00:00\n"
     ]
    }
   ],
   "source": [
    "days = pd.date_range('2023-01-1', '2023-02-18', freq='B')\n",
    "for d in days : print (d)"
   ]
  },
  {
   "cell_type": "code",
   "execution_count": 139,
   "id": "7b1bf73e",
   "metadata": {},
   "outputs": [
    {
     "data": {
      "text/plain": [
       "DatetimeIndex(['2014-08-01 12:10:01', '2014-08-01 12:10:02',\n",
       "               '2014-08-01 12:10:03', '2014-08-01 12:10:04',\n",
       "               '2014-08-01 12:10:05', '2014-08-01 12:10:06',\n",
       "               '2014-08-01 12:10:07', '2014-08-01 12:10:08',\n",
       "               '2014-08-01 12:10:09', '2014-08-01 12:10:10'],\n",
       "              dtype='datetime64[ns]', freq='S')"
      ]
     },
     "execution_count": 139,
     "metadata": {},
     "output_type": "execute_result"
    }
   ],
   "source": [
    "# periods will use the frequency as the increment\n",
    "pd.date_range('2014-08-01 12:10:01', freq='S', periods=10)"
   ]
  },
  {
   "cell_type": "markdown",
   "id": "d9aec393",
   "metadata": {},
   "source": [
    "# Calculating new dates using offsets"
   ]
  },
  {
   "cell_type": "code",
   "execution_count": 140,
   "id": "44943a1c",
   "metadata": {},
   "outputs": [
    {
     "data": {
      "text/plain": [
       "array(['2014-08-29T00:00:00.000000000', '2014-09-01T00:00:00.000000000',\n",
       "       '2014-09-02T00:00:00.000000000', '2014-09-03T00:00:00.000000000',\n",
       "       '2014-09-04T00:00:00.000000000', '2014-09-05T00:00:00.000000000'],\n",
       "      dtype='datetime64[ns]')"
      ]
     },
     "execution_count": 140,
     "metadata": {},
     "output_type": "execute_result"
    }
   ],
   "source": [
    "# get all business days between and inclusive of these two dates\n",
    "dti = pd.date_range('2014-08-29', '2014-09-05', freq='B')\n",
    "dti.values"
   ]
  },
  {
   "cell_type": "code",
   "execution_count": 141,
   "id": "d881e1d9",
   "metadata": {},
   "outputs": [
    {
     "data": {
      "text/plain": [
       "<BusinessDay>"
      ]
     },
     "execution_count": 141,
     "metadata": {},
     "output_type": "execute_result"
    }
   ],
   "source": [
    "dti.freq"
   ]
  },
  {
   "cell_type": "code",
   "execution_count": 142,
   "id": "c75cd725",
   "metadata": {},
   "outputs": [
    {
     "data": {
      "text/plain": [
       "Timestamp('2014-08-30 00:00:00')"
      ]
     },
     "execution_count": 142,
     "metadata": {},
     "output_type": "execute_result"
    }
   ],
   "source": [
    "# calculate a one day offset from 2014-8-29\n",
    "d = datetime(2014, 8, 29)\n",
    "\n",
    "\n",
    "do = pd.DateOffset(days = 1)\n",
    "d + do"
   ]
  },
  {
   "cell_type": "code",
   "execution_count": 151,
   "id": "bb93a238",
   "metadata": {},
   "outputs": [
    {
     "data": {
      "text/plain": [
       "Timestamp('2014-08-28 00:00:00')"
      ]
     },
     "execution_count": 151,
     "metadata": {},
     "output_type": "execute_result"
    }
   ],
   "source": [
    "d = datetime(2014, 8, 25)\n",
    "\n",
    "\n",
    "do = pd.DateOffset(n=3)\n",
    "d + do"
   ]
  },
  {
   "cell_type": "code",
   "execution_count": 150,
   "id": "cad370c1",
   "metadata": {},
   "outputs": [
    {
     "data": {
      "text/plain": [
       "Timestamp('2014-08-31 00:00:00')"
      ]
     },
     "execution_count": 150,
     "metadata": {},
     "output_type": "execute_result"
    }
   ],
   "source": [
    "d = datetime(2014, 8, 25)\n",
    "\n",
    "\n",
    "do = pd.offsets.MonthEnd()\n",
    "d + do"
   ]
  },
  {
   "cell_type": "code",
   "execution_count": null,
   "id": "5e4e43e3",
   "metadata": {},
   "outputs": [],
   "source": []
  }
 ],
 "metadata": {
  "kernelspec": {
   "display_name": "Python 3",
   "language": "python",
   "name": "python3"
  },
  "language_info": {
   "codemirror_mode": {
    "name": "ipython",
    "version": 3
   },
   "file_extension": ".py",
   "mimetype": "text/x-python",
   "name": "python",
   "nbconvert_exporter": "python",
   "pygments_lexer": "ipython3",
   "version": "3.7.4"
  }
 },
 "nbformat": 4,
 "nbformat_minor": 5
}
